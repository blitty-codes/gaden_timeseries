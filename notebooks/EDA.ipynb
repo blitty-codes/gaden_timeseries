{
 "cells": [
  {
   "cell_type": "markdown",
   "metadata": {},
   "source": [
    "* Informacion del incremento del timepo (plots)\n",
    "* Varianza de cada variable\n",
    "* Mirar datos faltantes mediante el timestamp\n",
    "    * recogida de datos cada 30s\n",
    "    * cuidado porque puede ser que los timestamp tengan delays debido a fallos de los sensores.\n",
    "\n",
    "HAY QUE TENER VARIOS BASELINES\n",
    "\n",
    "Para que ellos puedan tener una idea de cómo funciona"
   ]
  },
  {
   "cell_type": "markdown",
   "metadata": {},
   "source": [
    "# EDA\n",
    "\n",
    "@TODO : Descripción dataset\n",
    "\n",
    "Los datos recogidos en este dataset tienen las siguientes filas: ``timestamp``, ``light_air``, ``light_ground``, ``moisture_ground``, ``dht_air_humidity``, ``dht_air_temperature``, ``dht_ground_humidity``, ``dht_ground_temperature``.\n",
    "\n",
    "\n",
    "La variable a predecir es ``moisture_ground``."
   ]
  },
  {
   "cell_type": "code",
   "execution_count": 1,
   "metadata": {},
   "outputs": [],
   "source": [
    "import pandas as pd\n",
    "import numpy as np\n",
    "# import seaborn as sns\n",
    "# import matplotlib.pyplot as plt"
   ]
  },
  {
   "cell_type": "code",
   "execution_count": 2,
   "metadata": {},
   "outputs": [],
   "source": [
    "data = pd.read_csv('data/HUERTO-ESP32_huerto_casa.tsv', sep='\\t')"
   ]
  },
  {
   "cell_type": "markdown",
   "metadata": {},
   "source": [
    "## Train test split\n",
    "\n",
    "* **Test** dataset will be the last 1000 rows will be allocated for validation purposes.\n",
    "* **Training** dataset will be the first 9000 rows."
   ]
  },
  {
   "cell_type": "code",
   "execution_count": 3,
   "metadata": {},
   "outputs": [],
   "source": [
    "test_data = data.tail(1000)\n",
    "train_data = data.head(9000)"
   ]
  },
  {
   "cell_type": "code",
   "execution_count": 4,
   "metadata": {},
   "outputs": [
    {
     "data": {
      "text/html": [
       "<div>\n",
       "<style scoped>\n",
       "    .dataframe tbody tr th:only-of-type {\n",
       "        vertical-align: middle;\n",
       "    }\n",
       "\n",
       "    .dataframe tbody tr th {\n",
       "        vertical-align: top;\n",
       "    }\n",
       "\n",
       "    .dataframe thead th {\n",
       "        text-align: right;\n",
       "    }\n",
       "</style>\n",
       "<table border=\"1\" class=\"dataframe\">\n",
       "  <thead>\n",
       "    <tr style=\"text-align: right;\">\n",
       "      <th></th>\n",
       "      <th>timestamp</th>\n",
       "      <th>light_air</th>\n",
       "      <th>light_ground</th>\n",
       "      <th>moisture_ground</th>\n",
       "      <th>dht_air_humidity</th>\n",
       "      <th>dht_air_temperature</th>\n",
       "      <th>dht_ground_humidity</th>\n",
       "      <th>dht_ground_temperature</th>\n",
       "    </tr>\n",
       "  </thead>\n",
       "  <tbody>\n",
       "    <tr>\n",
       "      <th>0</th>\n",
       "      <td>1697063380</td>\n",
       "      <td>2311</td>\n",
       "      <td>1999</td>\n",
       "      <td>944</td>\n",
       "      <td>40</td>\n",
       "      <td>24.4</td>\n",
       "      <td>40</td>\n",
       "      <td>24.3</td>\n",
       "    </tr>\n",
       "    <tr>\n",
       "      <th>1</th>\n",
       "      <td>1697063416</td>\n",
       "      <td>2325</td>\n",
       "      <td>2006</td>\n",
       "      <td>929</td>\n",
       "      <td>40</td>\n",
       "      <td>24.3</td>\n",
       "      <td>40</td>\n",
       "      <td>24.3</td>\n",
       "    </tr>\n",
       "    <tr>\n",
       "      <th>2</th>\n",
       "      <td>1697063450</td>\n",
       "      <td>2320</td>\n",
       "      <td>2003</td>\n",
       "      <td>952</td>\n",
       "      <td>40</td>\n",
       "      <td>24.3</td>\n",
       "      <td>40</td>\n",
       "      <td>24.3</td>\n",
       "    </tr>\n",
       "    <tr>\n",
       "      <th>3</th>\n",
       "      <td>1697063484</td>\n",
       "      <td>2329</td>\n",
       "      <td>1999</td>\n",
       "      <td>950</td>\n",
       "      <td>40</td>\n",
       "      <td>24.3</td>\n",
       "      <td>40</td>\n",
       "      <td>24.2</td>\n",
       "    </tr>\n",
       "    <tr>\n",
       "      <th>4</th>\n",
       "      <td>1697063518</td>\n",
       "      <td>2307</td>\n",
       "      <td>1983</td>\n",
       "      <td>961</td>\n",
       "      <td>40</td>\n",
       "      <td>24.3</td>\n",
       "      <td>40</td>\n",
       "      <td>24.2</td>\n",
       "    </tr>\n",
       "  </tbody>\n",
       "</table>\n",
       "</div>"
      ],
      "text/plain": [
       "    timestamp  light_air  light_ground  moisture_ground  dht_air_humidity  \\\n",
       "0  1697063380       2311          1999              944                40   \n",
       "1  1697063416       2325          2006              929                40   \n",
       "2  1697063450       2320          2003              952                40   \n",
       "3  1697063484       2329          1999              950                40   \n",
       "4  1697063518       2307          1983              961                40   \n",
       "\n",
       "   dht_air_temperature  dht_ground_humidity  dht_ground_temperature  \n",
       "0                 24.4                   40                    24.3  \n",
       "1                 24.3                   40                    24.3  \n",
       "2                 24.3                   40                    24.3  \n",
       "3                 24.3                   40                    24.2  \n",
       "4                 24.3                   40                    24.2  "
      ]
     },
     "execution_count": 4,
     "metadata": {},
     "output_type": "execute_result"
    }
   ],
   "source": [
    "train_data.head()"
   ]
  },
  {
   "cell_type": "markdown",
   "metadata": {},
   "source": [
    "## General statistics"
   ]
  },
  {
   "cell_type": "code",
   "execution_count": 5,
   "metadata": {},
   "outputs": [
    {
     "name": "stderr",
     "output_type": "stream",
     "text": [
      "c:\\Users\\Bl1tty\\Documents\\Uni\\temporales\\.venv\\Lib\\site-packages\\tqdm\\auto.py:21: TqdmWarning: IProgress not found. Please update jupyter and ipywidgets. See https://ipywidgets.readthedocs.io/en/stable/user_install.html\n",
      "  from .autonotebook import tqdm as notebook_tqdm\n"
     ]
    }
   ],
   "source": [
    "from ydata_profiling import ProfileReport"
   ]
  },
  {
   "cell_type": "code",
   "execution_count": 6,
   "metadata": {},
   "outputs": [
    {
     "name": "stderr",
     "output_type": "stream",
     "text": [
      "Summarize dataset: 100%|██████████| 81/81 [00:24<00:00,  3.26it/s, Completed]                                             \n",
      "Generate report structure: 100%|██████████| 1/1 [00:38<00:00, 38.49s/it]\n",
      "Render HTML: 100%|██████████| 1/1 [00:10<00:00, 10.33s/it]\n",
      "Export report to file: 100%|██████████| 1/1 [00:00<00:00, 15.25it/s]\n"
     ]
    }
   ],
   "source": [
    "report = ProfileReport(train_data, tsmode=True, title=\"Time series gardeen\")\n",
    "report.to_file('time_series_gardeen_report.html')"
   ]
  },
  {
   "cell_type": "markdown",
   "metadata": {},
   "source": [
    "## Timestamp data"
   ]
  },
  {
   "cell_type": "code",
   "execution_count": 7,
   "metadata": {},
   "outputs": [],
   "source": [
    "timestamps = train_data['timestamp']"
   ]
  },
  {
   "cell_type": "code",
   "execution_count": 8,
   "metadata": {},
   "outputs": [
    {
     "name": "stdout",
     "output_type": "stream",
     "text": [
      "Total missing values: 483\n"
     ]
    }
   ],
   "source": [
    "delay = 30      # s\n",
    "threshold = 30  # s\n",
    "\n",
    "t = int(timestamps[0])\n",
    "c = 0\n",
    "# print(len(timestamps[1:]))\n",
    "for i, timestamp in enumerate(timestamps[1:]):\n",
    "    diff = int(timestamp) - t\n",
    "    t = int(timestamp)\n",
    "\n",
    "    # missing data from sensors\n",
    "    if diff >= 60:\n",
    "        c += diff // 30\n",
    "\n",
    "print(f\"Total missing values: {c}\")"
   ]
  },
  {
   "cell_type": "markdown",
   "metadata": {},
   "source": [
    "## Generate train_test data"
   ]
  },
  {
   "cell_type": "code",
   "execution_count": 19,
   "metadata": {},
   "outputs": [],
   "source": [
    "train_data.to_csv('data/split/train_data.csv', index=False)"
   ]
  },
  {
   "cell_type": "code",
   "execution_count": 20,
   "metadata": {},
   "outputs": [],
   "source": [
    "test_data.to_csv('data/split/test_data.csv', index=False)"
   ]
  },
  {
   "cell_type": "code",
   "execution_count": null,
   "metadata": {},
   "outputs": [],
   "source": []
  }
 ],
 "metadata": {
  "kernelspec": {
   "display_name": "Python 3",
   "language": "python",
   "name": "python3"
  },
  "language_info": {
   "codemirror_mode": {
    "name": "ipython",
    "version": 3
   },
   "file_extension": ".py",
   "mimetype": "text/x-python",
   "name": "python",
   "nbconvert_exporter": "python",
   "pygments_lexer": "ipython3",
   "version": "3.11.0"
  }
 },
 "nbformat": 4,
 "nbformat_minor": 2
}
