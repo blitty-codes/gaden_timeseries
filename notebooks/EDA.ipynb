{
 "cells": [
  {
   "cell_type": "markdown",
   "metadata": {},
   "source": [
    "* Informacion del incremento del timepo (plots)\n",
    "* Varianza de cada variable\n",
    "* Mirar datos faltantes mediante el timestamp\n",
    "    * recogida de datos cada 30s\n",
    "    * cuidado porque puede ser que los timestamp tengan delays debido a fallos de los sensores.\n",
    "\n",
    "HAY QUE TENER VARIOS BASELINES\n",
    "\n",
    "Para que ellos puedan tener una idea de cómo funciona"
   ]
  },
  {
   "cell_type": "markdown",
   "metadata": {},
   "source": [
    "# EDA\n",
    "\n",
    "@TODO : Descripción dataset\n",
    "\n",
    "Los datos recogidos en este dataset tienen las siguientes filas: ``timestamp``, ``light_air``, ``light_ground``, ``moisture_ground``, ``dht_air_humidity``, ``dht_air_temperature``, ``dht_ground_humidity``, ``dht_ground_temperature``.\n",
    "\n",
    "\n",
    "La variable a predecir es ``moisture_ground``."
   ]
  },
  {
   "cell_type": "code",
   "execution_count": 1,
   "metadata": {},
   "outputs": [
    {
     "name": "stderr",
     "output_type": "stream",
     "text": [
      "c:\\Users\\Bl1tty\\Documents\\Uni\\temporales\\.venv\\Lib\\site-packages\\tqdm\\auto.py:21: TqdmWarning: IProgress not found. Please update jupyter and ipywidgets. See https://ipywidgets.readthedocs.io/en/stable/user_install.html\n",
      "  from .autonotebook import tqdm as notebook_tqdm\n"
     ]
    }
   ],
   "source": [
    "from ydata_profiling import ProfileReport\n",
    "import pandas as pd"
   ]
  },
  {
   "cell_type": "code",
   "execution_count": 2,
   "metadata": {},
   "outputs": [],
   "source": [
    "df = pd.read_csv(\"../data/HUERTO-ESP32 - huerto_casa.csv\")"
   ]
  },
  {
   "cell_type": "code",
   "execution_count": 3,
   "metadata": {},
   "outputs": [
    {
     "data": {
      "text/plain": [
       "timestamp                 0\n",
       "light_air                 0\n",
       "light_ground              0\n",
       "moisture_ground           0\n",
       "dht_air_humidity          0\n",
       "dht_air_temperature       0\n",
       "dht_ground_humidity       0\n",
       "dht_ground_temperature    0\n",
       "dtype: int64"
      ]
     },
     "execution_count": 3,
     "metadata": {},
     "output_type": "execute_result"
    }
   ],
   "source": [
    "df.isnull().sum()"
   ]
  },
  {
   "cell_type": "markdown",
   "metadata": {},
   "source": [
    "## Train test split\n",
    "\n",
    "* **Test** dataset is last 1000 rows allocated for validation purposes.\n",
    "* **Training** dataset is first 9000 rows."
   ]
  },
  {
   "cell_type": "code",
   "execution_count": 4,
   "metadata": {},
   "outputs": [],
   "source": [
    "test_data = df.tail(1000)\n",
    "train_data = df.head(9000)"
   ]
  },
  {
   "cell_type": "code",
   "execution_count": 5,
   "metadata": {},
   "outputs": [
    {
     "data": {
      "text/html": [
       "<div>\n",
       "<style scoped>\n",
       "    .dataframe tbody tr th:only-of-type {\n",
       "        vertical-align: middle;\n",
       "    }\n",
       "\n",
       "    .dataframe tbody tr th {\n",
       "        vertical-align: top;\n",
       "    }\n",
       "\n",
       "    .dataframe thead th {\n",
       "        text-align: right;\n",
       "    }\n",
       "</style>\n",
       "<table border=\"1\" class=\"dataframe\">\n",
       "  <thead>\n",
       "    <tr style=\"text-align: right;\">\n",
       "      <th></th>\n",
       "      <th>timestamp</th>\n",
       "      <th>light_air</th>\n",
       "      <th>light_ground</th>\n",
       "      <th>moisture_ground</th>\n",
       "      <th>dht_air_humidity</th>\n",
       "      <th>dht_air_temperature</th>\n",
       "      <th>dht_ground_humidity</th>\n",
       "      <th>dht_ground_temperature</th>\n",
       "    </tr>\n",
       "  </thead>\n",
       "  <tbody>\n",
       "    <tr>\n",
       "      <th>0</th>\n",
       "      <td>1697063380</td>\n",
       "      <td>2311</td>\n",
       "      <td>1999</td>\n",
       "      <td>944</td>\n",
       "      <td>40</td>\n",
       "      <td>24.4</td>\n",
       "      <td>40</td>\n",
       "      <td>24.3</td>\n",
       "    </tr>\n",
       "    <tr>\n",
       "      <th>1</th>\n",
       "      <td>1697063416</td>\n",
       "      <td>2325</td>\n",
       "      <td>2006</td>\n",
       "      <td>929</td>\n",
       "      <td>40</td>\n",
       "      <td>24.3</td>\n",
       "      <td>40</td>\n",
       "      <td>24.3</td>\n",
       "    </tr>\n",
       "    <tr>\n",
       "      <th>2</th>\n",
       "      <td>1697063450</td>\n",
       "      <td>2320</td>\n",
       "      <td>2003</td>\n",
       "      <td>952</td>\n",
       "      <td>40</td>\n",
       "      <td>24.3</td>\n",
       "      <td>40</td>\n",
       "      <td>24.3</td>\n",
       "    </tr>\n",
       "    <tr>\n",
       "      <th>3</th>\n",
       "      <td>1697063484</td>\n",
       "      <td>2329</td>\n",
       "      <td>1999</td>\n",
       "      <td>950</td>\n",
       "      <td>40</td>\n",
       "      <td>24.3</td>\n",
       "      <td>40</td>\n",
       "      <td>24.2</td>\n",
       "    </tr>\n",
       "    <tr>\n",
       "      <th>4</th>\n",
       "      <td>1697063518</td>\n",
       "      <td>2307</td>\n",
       "      <td>1983</td>\n",
       "      <td>961</td>\n",
       "      <td>40</td>\n",
       "      <td>24.3</td>\n",
       "      <td>40</td>\n",
       "      <td>24.2</td>\n",
       "    </tr>\n",
       "  </tbody>\n",
       "</table>\n",
       "</div>"
      ],
      "text/plain": [
       "    timestamp  light_air  light_ground  moisture_ground  dht_air_humidity  \\\n",
       "0  1697063380       2311          1999              944                40   \n",
       "1  1697063416       2325          2006              929                40   \n",
       "2  1697063450       2320          2003              952                40   \n",
       "3  1697063484       2329          1999              950                40   \n",
       "4  1697063518       2307          1983              961                40   \n",
       "\n",
       "   dht_air_temperature  dht_ground_humidity  dht_ground_temperature  \n",
       "0                 24.4                   40                    24.3  \n",
       "1                 24.3                   40                    24.3  \n",
       "2                 24.3                   40                    24.3  \n",
       "3                 24.3                   40                    24.2  \n",
       "4                 24.3                   40                    24.2  "
      ]
     },
     "execution_count": 5,
     "metadata": {},
     "output_type": "execute_result"
    }
   ],
   "source": [
    "train_data.head()"
   ]
  },
  {
   "cell_type": "markdown",
   "metadata": {},
   "source": [
    "## Analysis"
   ]
  },
  {
   "cell_type": "markdown",
   "metadata": {},
   "source": [
    "### Automated analisys\n",
    "\n",
    "Data is automated using `ydata_profiling` library which helps reducing repetitive code.\n",
    "\n",
    "@TODO : Explain a bit data"
   ]
  },
  {
   "cell_type": "code",
   "execution_count": 6,
   "metadata": {},
   "outputs": [
    {
     "name": "stderr",
     "output_type": "stream",
     "text": [
      "Summarize dataset: 100%|██████████| 81/81 [00:13<00:00,  6.09it/s, Completed]                                             \n",
      "Generate report structure: 100%|██████████| 1/1 [00:22<00:00, 22.08s/it]\n",
      "Render HTML: 100%|██████████| 1/1 [00:02<00:00,  2.48s/it]\n",
      "Export report to file: 100%|██████████| 1/1 [00:00<00:00, 64.65it/s]\n"
     ]
    }
   ],
   "source": [
    "report = ProfileReport(train_data, tsmode=True, title=\"Time series gardeen\")\n",
    "report.to_file('time_series_gardeen_report.html')"
   ]
  },
  {
   "cell_type": "markdown",
   "metadata": {},
   "source": [
    "## Time series column analysis\n",
    "\n",
    "Data gathered for each column:\n",
    "\n",
    "- ``p-value`` : indicates the order of the difference (lag) between the present and past data. if p-value is <= 0.05 then null hypothesis is rejected, and the timeseries is stationary.\n",
    "- ``ADF Statistic`` : Value of Augmented Dickey Fuller tests the null hypothesis that a unit root is present in a time series sample.\n",
    "- ``Critical values`` : Critical values for the test statistic at the 1 %, 5 %, and 10 % levels. Based on MacKinnon (2010).\n",
    "- ``Seasonality`` : Presence of variations that occur at specific regular intervals.\n",
    "- ``kpss`` : Analize if a time series is stationary around a deterministic trend."
   ]
  },
  {
   "cell_type": "code",
   "execution_count": 7,
   "metadata": {},
   "outputs": [],
   "source": [
    "import matplotlib.pyplot as plt\n",
    "from statsmodels.tsa.stattools import adfuller, kpss\n",
    "from statsmodels.graphics.tsaplots import plot_acf\n",
    "from statsmodels.tsa.seasonal import seasonal_decompose"
   ]
  },
  {
   "cell_type": "code",
   "execution_count": 8,
   "metadata": {},
   "outputs": [],
   "source": [
    "def analize_column(column: pd.Series, is_plot: bool = True):\n",
    "    \"\"\"\n",
    "    Analyze ``p-value``, ``ADF statistics``, ``Critical values`` and ``Seasonality`` for a given column\n",
    "\n",
    "    Parameters\n",
    "    ----------\n",
    "    - col_name : str\n",
    "\n",
    "        Name of the column\n",
    "\n",
    "    - is_plot : bool = True\n",
    "\n",
    "    Returns\n",
    "    -------\n",
    "\n",
    "    - has_trend, is_stationary, is_seasonal : Tuple[bool, bool, bool]\n",
    "    \"\"\"\n",
    "\n",
    "    adf_result = adfuller(column)\n",
    "    kpss_result = kpss(column)\n",
    "\n",
    "    column_name = column.name\n",
    "    decomposition = seasonal_decompose(column, model='additive', period=1)\n",
    "\n",
    "    is_stationary = adf_result[1] < 0.05  # ADF p-value less than 0.05 indicates stationarity\n",
    "    is_seasonal = decomposition.seasonal is not None  # If seasonal component exists\n",
    "    has_trend = kpss_result[1] < 0.05\n",
    "\n",
    "    print(f\"Column: {column_name}\")\n",
    "    print(\"==== ADF statistic ====\")\n",
    "    print(f\"ADF Statistic: {adf_result[0]}\")\n",
    "    print(f\"p-value: {adf_result[1]}\")\n",
    "    print(f\"Critical Values:\")\n",
    "    for key, value in adf_result[4].items():\n",
    "        print(f\"\\t* {key}: {value}\")\n",
    "    print()\n",
    "    print(\"==== KPSS statistic ====\")\n",
    "    print('KPSS Statistic:', kpss_result[0])\n",
    "    print('p-value:', kpss_result[1])\n",
    "    print('Critical Values:')\n",
    "    for key, value in kpss_result[3].items():\n",
    "        print(f'\\t{key}: {value}')\n",
    "\n",
    "    if is_stationary:\n",
    "        print(f'{column_name} is stationary according to ADF test.')\n",
    "    \n",
    "    if is_seasonal:\n",
    "        print(f'{column_name} is seasonal according to ADF test.')\n",
    "\n",
    "    if has_trend:\n",
    "        print(f'{column_name} contains trend according to KPSS test.')\n",
    "\n",
    "    if is_plot:\n",
    "        plot_acf(column, lags=30)\n",
    "        plt.title(f'ACF for {column_name}')\n",
    "        plt.show()\n",
    "\n",
    "        decomposition.plot()\n",
    "        plt.show()\n",
    "\n",
    "    return has_trend, is_stationary, is_seasonal"
   ]
  },
  {
   "cell_type": "code",
   "execution_count": 9,
   "metadata": {},
   "outputs": [],
   "source": [
    "stats = {}"
   ]
  },
  {
   "cell_type": "markdown",
   "metadata": {},
   "source": [
    "### Individual columns"
   ]
  },
  {
   "cell_type": "markdown",
   "metadata": {},
   "source": [
    "#### Light air"
   ]
  },
  {
   "cell_type": "code",
   "execution_count": 10,
   "metadata": {},
   "outputs": [
    {
     "name": "stdout",
     "output_type": "stream",
     "text": [
      "Column: light_air\n",
      "==== ADF statistic ====\n",
      "ADF Statistic: -3.1930164640947303\n",
      "p-value: 0.020392489093998423\n",
      "Critical Values:\n",
      "\t* 1%: -3.4310794717255386\n",
      "\t* 5%: -2.8618623790201543\n",
      "\t* 10%: -2.566941597330181\n",
      "\n",
      "==== KPSS statistic ====\n",
      "KPSS Statistic: 0.5077425928153974\n",
      "p-value: 0.039922839455991586\n",
      "Critical Values:\n",
      "\t10%: 0.347\n",
      "\t5%: 0.463\n",
      "\t2.5%: 0.574\n",
      "\t1%: 0.739\n",
      "light_air is stationary according to ADF test.\n",
      "light_air is seasonal according to ADF test.\n",
      "light_air contains trend according to KPSS test.\n"
     ]
    },
    {
     "name": "stderr",
     "output_type": "stream",
     "text": [
      "C:\\Users\\Bl1tty\\AppData\\Local\\Temp\\ipykernel_21224\\3256054132.py:56: UserWarning: FigureCanvasAgg is non-interactive, and thus cannot be shown\n",
      "  plt.show()\n",
      "C:\\Users\\Bl1tty\\AppData\\Local\\Temp\\ipykernel_21224\\3256054132.py:59: UserWarning: FigureCanvasAgg is non-interactive, and thus cannot be shown\n",
      "  plt.show()\n"
     ]
    }
   ],
   "source": [
    "light_air = analize_column(train_data[\"light_air\"])\n",
    "stats[\"light_air\"] = light_air"
   ]
  },
  {
   "cell_type": "markdown",
   "metadata": {},
   "source": [
    "#### Light ground "
   ]
  },
  {
   "cell_type": "code",
   "execution_count": 11,
   "metadata": {},
   "outputs": [
    {
     "name": "stderr",
     "output_type": "stream",
     "text": [
      "C:\\Users\\Bl1tty\\AppData\\Local\\Temp\\ipykernel_21224\\3256054132.py:20: InterpolationWarning: The test statistic is outside of the range of p-values available in the\n",
      "look-up table. The actual p-value is greater than the p-value returned.\n",
      "\n",
      "  kpss_result = kpss(column)\n",
      "C:\\Users\\Bl1tty\\AppData\\Local\\Temp\\ipykernel_21224\\3256054132.py:56: UserWarning: FigureCanvasAgg is non-interactive, and thus cannot be shown\n",
      "  plt.show()\n"
     ]
    },
    {
     "name": "stdout",
     "output_type": "stream",
     "text": [
      "Column: light_ground\n",
      "==== ADF statistic ====\n",
      "ADF Statistic: -2.0407991058996164\n",
      "p-value: 0.2689754404916045\n",
      "Critical Values:\n",
      "\t* 1%: -3.4310794717255386\n",
      "\t* 5%: -2.8618623790201543\n",
      "\t* 10%: -2.566941597330181\n",
      "\n",
      "==== KPSS statistic ====\n",
      "KPSS Statistic: 0.2858718374205819\n",
      "p-value: 0.1\n",
      "Critical Values:\n",
      "\t10%: 0.347\n",
      "\t5%: 0.463\n",
      "\t2.5%: 0.574\n",
      "\t1%: 0.739\n",
      "light_ground is seasonal according to ADF test.\n"
     ]
    },
    {
     "name": "stderr",
     "output_type": "stream",
     "text": [
      "C:\\Users\\Bl1tty\\AppData\\Local\\Temp\\ipykernel_21224\\3256054132.py:59: UserWarning: FigureCanvasAgg is non-interactive, and thus cannot be shown\n",
      "  plt.show()\n"
     ]
    }
   ],
   "source": [
    "light_ground = analize_column(train_data[\"light_ground\"])\n",
    "stats[\"light_ground\"] = light_ground"
   ]
  },
  {
   "cell_type": "markdown",
   "metadata": {},
   "source": [
    "#### Moisture ground"
   ]
  },
  {
   "cell_type": "code",
   "execution_count": 12,
   "metadata": {},
   "outputs": [
    {
     "name": "stderr",
     "output_type": "stream",
     "text": [
      "C:\\Users\\Bl1tty\\AppData\\Local\\Temp\\ipykernel_21224\\3256054132.py:20: InterpolationWarning: The test statistic is outside of the range of p-values available in the\n",
      "look-up table. The actual p-value is smaller than the p-value returned.\n",
      "\n",
      "  kpss_result = kpss(column)\n",
      "C:\\Users\\Bl1tty\\AppData\\Local\\Temp\\ipykernel_21224\\3256054132.py:56: UserWarning: FigureCanvasAgg is non-interactive, and thus cannot be shown\n",
      "  plt.show()\n"
     ]
    },
    {
     "name": "stdout",
     "output_type": "stream",
     "text": [
      "Column: moisture_ground\n",
      "==== ADF statistic ====\n",
      "ADF Statistic: -5.918765349666914\n",
      "p-value: 2.535678425825205e-07\n",
      "Critical Values:\n",
      "\t* 1%: -3.431079878822629\n",
      "\t* 5%: -2.8618625589084705\n",
      "\t* 10%: -2.566941693085751\n",
      "\n",
      "==== KPSS statistic ====\n",
      "KPSS Statistic: 1.233194895599859\n",
      "p-value: 0.01\n",
      "Critical Values:\n",
      "\t10%: 0.347\n",
      "\t5%: 0.463\n",
      "\t2.5%: 0.574\n",
      "\t1%: 0.739\n",
      "moisture_ground is stationary according to ADF test.\n",
      "moisture_ground is seasonal according to ADF test.\n",
      "moisture_ground contains trend according to KPSS test.\n"
     ]
    },
    {
     "name": "stderr",
     "output_type": "stream",
     "text": [
      "C:\\Users\\Bl1tty\\AppData\\Local\\Temp\\ipykernel_21224\\3256054132.py:59: UserWarning: FigureCanvasAgg is non-interactive, and thus cannot be shown\n",
      "  plt.show()\n"
     ]
    }
   ],
   "source": [
    "moisture_ground = analize_column(train_data[\"moisture_ground\"])\n",
    "stats[\"moisture_ground\"] = moisture_ground"
   ]
  },
  {
   "cell_type": "markdown",
   "metadata": {},
   "source": [
    "#### Dht air humidity"
   ]
  },
  {
   "cell_type": "code",
   "execution_count": 13,
   "metadata": {},
   "outputs": [
    {
     "name": "stdout",
     "output_type": "stream",
     "text": [
      "Column: dht_air_humidity\n",
      "==== ADF statistic ====\n",
      "ADF Statistic: -0.42670482739253485\n",
      "p-value: 0.9055436407983337\n",
      "Critical Values:\n",
      "\t* 1%: -3.431078902551946\n",
      "\t* 5%: -2.8618621275133314\n",
      "\t* 10%: -2.56694146345168\n",
      "\n",
      "==== KPSS statistic ====\n",
      "KPSS Statistic: 11.246840382579773\n",
      "p-value: 0.01\n",
      "Critical Values:\n",
      "\t10%: 0.347\n",
      "\t5%: 0.463\n",
      "\t2.5%: 0.574\n",
      "\t1%: 0.739\n",
      "dht_air_humidity is seasonal according to ADF test.\n",
      "dht_air_humidity contains trend according to KPSS test.\n"
     ]
    },
    {
     "name": "stderr",
     "output_type": "stream",
     "text": [
      "C:\\Users\\Bl1tty\\AppData\\Local\\Temp\\ipykernel_21224\\3256054132.py:20: InterpolationWarning: The test statistic is outside of the range of p-values available in the\n",
      "look-up table. The actual p-value is smaller than the p-value returned.\n",
      "\n",
      "  kpss_result = kpss(column)\n",
      "C:\\Users\\Bl1tty\\AppData\\Local\\Temp\\ipykernel_21224\\3256054132.py:56: UserWarning: FigureCanvasAgg is non-interactive, and thus cannot be shown\n",
      "  plt.show()\n",
      "C:\\Users\\Bl1tty\\AppData\\Local\\Temp\\ipykernel_21224\\3256054132.py:59: UserWarning: FigureCanvasAgg is non-interactive, and thus cannot be shown\n",
      "  plt.show()\n"
     ]
    }
   ],
   "source": [
    "dht_air_humidity = analize_column(train_data[\"dht_air_humidity\"])\n",
    "stats[\"dht_air_humidity\"] = dht_air_humidity"
   ]
  },
  {
   "cell_type": "markdown",
   "metadata": {},
   "source": [
    "#### Dht air temperature"
   ]
  },
  {
   "cell_type": "code",
   "execution_count": 14,
   "metadata": {},
   "outputs": [
    {
     "name": "stderr",
     "output_type": "stream",
     "text": [
      "C:\\Users\\Bl1tty\\AppData\\Local\\Temp\\ipykernel_21224\\3256054132.py:20: InterpolationWarning: The test statistic is outside of the range of p-values available in the\n",
      "look-up table. The actual p-value is smaller than the p-value returned.\n",
      "\n",
      "  kpss_result = kpss(column)\n",
      "C:\\Users\\Bl1tty\\AppData\\Local\\Temp\\ipykernel_21224\\3256054132.py:56: UserWarning: FigureCanvasAgg is non-interactive, and thus cannot be shown\n",
      "  plt.show()\n"
     ]
    },
    {
     "name": "stdout",
     "output_type": "stream",
     "text": [
      "Column: dht_air_temperature\n",
      "==== ADF statistic ====\n",
      "ADF Statistic: -2.750421808631767\n",
      "p-value: 0.06571204902161162\n",
      "Critical Values:\n",
      "\t* 1%: -3.4310794717255386\n",
      "\t* 5%: -2.8618623790201543\n",
      "\t* 10%: -2.566941597330181\n",
      "\n",
      "==== KPSS statistic ====\n",
      "KPSS Statistic: 6.715633513429611\n",
      "p-value: 0.01\n",
      "Critical Values:\n",
      "\t10%: 0.347\n",
      "\t5%: 0.463\n",
      "\t2.5%: 0.574\n",
      "\t1%: 0.739\n",
      "dht_air_temperature is seasonal according to ADF test.\n",
      "dht_air_temperature contains trend according to KPSS test.\n"
     ]
    },
    {
     "name": "stderr",
     "output_type": "stream",
     "text": [
      "C:\\Users\\Bl1tty\\AppData\\Local\\Temp\\ipykernel_21224\\3256054132.py:59: UserWarning: FigureCanvasAgg is non-interactive, and thus cannot be shown\n",
      "  plt.show()\n"
     ]
    }
   ],
   "source": [
    "dht_air_temperature = analize_column(train_data[\"dht_air_temperature\"])\n",
    "stats[\"dht_air_temperature\"] = dht_air_temperature"
   ]
  },
  {
   "cell_type": "markdown",
   "metadata": {},
   "source": [
    "#### Dht ground humidity"
   ]
  },
  {
   "cell_type": "code",
   "execution_count": 15,
   "metadata": {},
   "outputs": [
    {
     "name": "stderr",
     "output_type": "stream",
     "text": [
      "C:\\Users\\Bl1tty\\AppData\\Local\\Temp\\ipykernel_21224\\3256054132.py:20: InterpolationWarning: The test statistic is outside of the range of p-values available in the\n",
      "look-up table. The actual p-value is smaller than the p-value returned.\n",
      "\n",
      "  kpss_result = kpss(column)\n",
      "C:\\Users\\Bl1tty\\AppData\\Local\\Temp\\ipykernel_21224\\3256054132.py:56: UserWarning: FigureCanvasAgg is non-interactive, and thus cannot be shown\n",
      "  plt.show()\n"
     ]
    },
    {
     "name": "stdout",
     "output_type": "stream",
     "text": [
      "Column: dht_ground_humidity\n",
      "==== ADF statistic ====\n",
      "ADF Statistic: -0.7192878489538947\n",
      "p-value: 0.8416900958207978\n",
      "Critical Values:\n",
      "\t* 1%: -3.4310790650823195\n",
      "\t* 5%: -2.8618621993323705\n",
      "\t* 10%: -2.566941501681359\n",
      "\n",
      "==== KPSS statistic ====\n",
      "KPSS Statistic: 11.661964815083811\n",
      "p-value: 0.01\n",
      "Critical Values:\n",
      "\t10%: 0.347\n",
      "\t5%: 0.463\n",
      "\t2.5%: 0.574\n",
      "\t1%: 0.739\n",
      "dht_ground_humidity is seasonal according to ADF test.\n",
      "dht_ground_humidity contains trend according to KPSS test.\n"
     ]
    },
    {
     "name": "stderr",
     "output_type": "stream",
     "text": [
      "C:\\Users\\Bl1tty\\AppData\\Local\\Temp\\ipykernel_21224\\3256054132.py:59: UserWarning: FigureCanvasAgg is non-interactive, and thus cannot be shown\n",
      "  plt.show()\n"
     ]
    }
   ],
   "source": [
    "dht_ground_humidity = analize_column(train_data[\"dht_ground_humidity\"])\n",
    "stats[\"dht_ground_humidity\"] = dht_ground_humidity"
   ]
  },
  {
   "cell_type": "markdown",
   "metadata": {},
   "source": [
    "#### Dht ground temperature"
   ]
  },
  {
   "cell_type": "code",
   "execution_count": 16,
   "metadata": {},
   "outputs": [
    {
     "name": "stderr",
     "output_type": "stream",
     "text": [
      "C:\\Users\\Bl1tty\\AppData\\Local\\Temp\\ipykernel_21224\\3256054132.py:20: InterpolationWarning: The test statistic is outside of the range of p-values available in the\n",
      "look-up table. The actual p-value is smaller than the p-value returned.\n",
      "\n",
      "  kpss_result = kpss(column)\n",
      "C:\\Users\\Bl1tty\\AppData\\Local\\Temp\\ipykernel_21224\\3256054132.py:56: UserWarning: FigureCanvasAgg is non-interactive, and thus cannot be shown\n",
      "  plt.show()\n"
     ]
    },
    {
     "name": "stdout",
     "output_type": "stream",
     "text": [
      "Column: dht_ground_temperature\n",
      "==== ADF statistic ====\n",
      "ADF Statistic: -2.7899234693718578\n",
      "p-value: 0.05972760719558708\n",
      "Critical Values:\n",
      "\t* 1%: -3.431077766865211\n",
      "\t* 5%: -2.861861625675143\n",
      "\t* 10%: -2.5669411963204065\n",
      "\n",
      "==== KPSS statistic ====\n",
      "KPSS Statistic: 4.08785084626922\n",
      "p-value: 0.01\n",
      "Critical Values:\n",
      "\t10%: 0.347\n",
      "\t5%: 0.463\n",
      "\t2.5%: 0.574\n",
      "\t1%: 0.739\n",
      "dht_ground_temperature is seasonal according to ADF test.\n",
      "dht_ground_temperature contains trend according to KPSS test.\n"
     ]
    },
    {
     "name": "stderr",
     "output_type": "stream",
     "text": [
      "C:\\Users\\Bl1tty\\AppData\\Local\\Temp\\ipykernel_21224\\3256054132.py:59: UserWarning: FigureCanvasAgg is non-interactive, and thus cannot be shown\n",
      "  plt.show()\n"
     ]
    }
   ],
   "source": [
    "dht_ground_temperature = analize_column(train_data[\"dht_ground_temperature\"])\n",
    "stats[\"dht_ground_temperature\"] = dht_ground_temperature"
   ]
  },
  {
   "cell_type": "markdown",
   "metadata": {},
   "source": [
    "### All variable statistics\n",
    "\n",
    "Filter by stationary and seasonality variables, in order to apply a detrending if necessary."
   ]
  },
  {
   "cell_type": "code",
   "execution_count": 18,
   "metadata": {},
   "outputs": [
    {
     "name": "stdout",
     "output_type": "stream",
     "text": [
      "* light_air:\n",
      "\t* has_trend : True\n",
      "\t* is_stationary : True\n",
      "\t* is_seasonal: True\n",
      "* light_ground:\n",
      "\t* has_trend : False\n",
      "\t* is_stationary : False\n",
      "\t* is_seasonal: True\n",
      "* moisture_ground:\n",
      "\t* has_trend : True\n",
      "\t* is_stationary : True\n",
      "\t* is_seasonal: True\n",
      "* dht_air_humidity:\n",
      "\t* has_trend : True\n",
      "\t* is_stationary : False\n",
      "\t* is_seasonal: True\n",
      "* dht_air_temperature:\n",
      "\t* has_trend : True\n",
      "\t* is_stationary : False\n",
      "\t* is_seasonal: True\n",
      "* dht_ground_humidity:\n",
      "\t* has_trend : True\n",
      "\t* is_stationary : False\n",
      "\t* is_seasonal: True\n",
      "* dht_ground_temperature:\n",
      "\t* has_trend : True\n",
      "\t* is_stationary : False\n",
      "\t* is_seasonal: True\n"
     ]
    }
   ],
   "source": [
    "for column, value in stats.items():\n",
    "    print(f\"* {column}:\\n\\t* has_trend : {value[0]}\\n\\t* is_stationary : {value[1]}\\n\\t* is_seasonal: {value[2]}\")"
   ]
  },
  {
   "cell_type": "markdown",
   "metadata": {},
   "source": [
    "## Timestamp data\n",
    "\n",
    "Verify timestamp has a timelapse with next of around 30s. If diff >= 60s then data has been lost."
   ]
  },
  {
   "cell_type": "code",
   "execution_count": null,
   "metadata": {},
   "outputs": [],
   "source": [
    "timestamps = train_data['timestamp']"
   ]
  },
  {
   "cell_type": "code",
   "execution_count": null,
   "metadata": {},
   "outputs": [],
   "source": [
    "delay = 30      # s\n",
    "threshold = 30  # s\n",
    "\n",
    "t = int(timestamps[0])\n",
    "c = 0\n",
    "# print(len(timestamps[1:]))\n",
    "for i, timestamp in enumerate(timestamps[1:]):\n",
    "    diff = int(timestamp) - t\n",
    "    t = int(timestamp)\n",
    "\n",
    "    # missing data from sensors\n",
    "    if diff >= 60:\n",
    "        c += diff // 30\n",
    "\n",
    "print(f\"Total missing values: {c}\")"
   ]
  },
  {
   "cell_type": "markdown",
   "metadata": {},
   "source": [
    "## Generate datasets\n",
    "\n",
    "In order to do the preprocessing and training/testing the model, train and test data are exported to a csv file."
   ]
  },
  {
   "cell_type": "code",
   "execution_count": null,
   "metadata": {},
   "outputs": [],
   "source": [
    "# train_data.to_csv('../data/split/train_data.csv', index=False)\n",
    "# test_data.to_csv('../data/split/test_data.csv', index=False)"
   ]
  }
 ],
 "metadata": {
  "kernelspec": {
   "display_name": "Python 3",
   "language": "python",
   "name": "python3"
  },
  "language_info": {
   "codemirror_mode": {
    "name": "ipython",
    "version": 3
   },
   "file_extension": ".py",
   "mimetype": "text/x-python",
   "name": "python",
   "nbconvert_exporter": "python",
   "pygments_lexer": "ipython3",
   "version": "3.11.0"
  }
 },
 "nbformat": 4,
 "nbformat_minor": 2
}
