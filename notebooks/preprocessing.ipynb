{
 "cells": [
  {
   "cell_type": "code",
   "execution_count": 1,
   "metadata": {},
   "outputs": [],
   "source": [
    "from itertools import chain\n",
    "import pandas as pd\n",
    "import numpy as np\n",
    "import matplotlib.pyplot as plt\n",
    "from numpy.ma import masked_where"
   ]
  },
  {
   "cell_type": "code",
   "execution_count": 2,
   "metadata": {},
   "outputs": [],
   "source": [
    "train_data = pd.read_csv('data/split/train_data.csv')\n",
    "test_data = pd.read_csv('data/split/test_data.csv')"
   ]
  },
  {
   "cell_type": "code",
   "execution_count": 3,
   "metadata": {},
   "outputs": [],
   "source": [
    "timestamps = train_data['timestamp']"
   ]
  },
  {
   "cell_type": "code",
   "execution_count": 4,
   "metadata": {},
   "outputs": [
    {
     "name": "stdout",
     "output_type": "stream",
     "text": [
      "Total missing values: 483\n"
     ]
    }
   ],
   "source": [
    "delay = 30      # s\n",
    "threshold = 30  # s\n",
    "\n",
    "t = int(timestamps[0])\n",
    "c = 0\n",
    "indexes = []\n",
    "# print(len(timestamps[1:]))\n",
    "for i, timestamp in enumerate(timestamps[1:]):\n",
    "    diff = int(timestamp) - t\n",
    "    t = int(timestamp)\n",
    "\n",
    "    # missing data from sensors\n",
    "    # at least one timestamp is missing\n",
    "    if diff >= 60:\n",
    "        indexes.append(i)\n",
    "        c += diff // 30\n",
    "\n",
    "print(f\"Total missing values: {c}\")"
   ]
  },
  {
   "cell_type": "code",
   "execution_count": 5,
   "metadata": {},
   "outputs": [
    {
     "data": {
      "text/plain": [
       "31"
      ]
     },
     "execution_count": 5,
     "metadata": {},
     "output_type": "execute_result"
    }
   ],
   "source": [
    "indexes[0]"
   ]
  },
  {
   "cell_type": "markdown",
   "metadata": {},
   "source": [
    "As we can see here, there is one missing row on between index 31 and 21"
   ]
  },
  {
   "cell_type": "code",
   "execution_count": 6,
   "metadata": {},
   "outputs": [
    {
     "data": {
      "text/html": [
       "<div>\n",
       "<style scoped>\n",
       "    .dataframe tbody tr th:only-of-type {\n",
       "        vertical-align: middle;\n",
       "    }\n",
       "\n",
       "    .dataframe tbody tr th {\n",
       "        vertical-align: top;\n",
       "    }\n",
       "\n",
       "    .dataframe thead th {\n",
       "        text-align: right;\n",
       "    }\n",
       "</style>\n",
       "<table border=\"1\" class=\"dataframe\">\n",
       "  <thead>\n",
       "    <tr style=\"text-align: right;\">\n",
       "      <th></th>\n",
       "      <th>timestamp</th>\n",
       "      <th>light_air</th>\n",
       "      <th>light_ground</th>\n",
       "      <th>moisture_ground</th>\n",
       "      <th>dht_air_humidity</th>\n",
       "      <th>dht_air_temperature</th>\n",
       "      <th>dht_ground_humidity</th>\n",
       "      <th>dht_ground_temperature</th>\n",
       "    </tr>\n",
       "  </thead>\n",
       "  <tbody>\n",
       "    <tr>\n",
       "      <th>31</th>\n",
       "      <td>1697064406</td>\n",
       "      <td>2277</td>\n",
       "      <td>1767</td>\n",
       "      <td>1014</td>\n",
       "      <td>40</td>\n",
       "      <td>24.5</td>\n",
       "      <td>40</td>\n",
       "      <td>24.2</td>\n",
       "    </tr>\n",
       "    <tr>\n",
       "      <th>32</th>\n",
       "      <td>1697064543</td>\n",
       "      <td>704</td>\n",
       "      <td>834</td>\n",
       "      <td>1047</td>\n",
       "      <td>42</td>\n",
       "      <td>24.2</td>\n",
       "      <td>44</td>\n",
       "      <td>24.4</td>\n",
       "    </tr>\n",
       "  </tbody>\n",
       "</table>\n",
       "</div>"
      ],
      "text/plain": [
       "     timestamp  light_air  light_ground  moisture_ground  dht_air_humidity  \\\n",
       "31  1697064406       2277          1767             1014                40   \n",
       "32  1697064543        704           834             1047                42   \n",
       "\n",
       "    dht_air_temperature  dht_ground_humidity  dht_ground_temperature  \n",
       "31                 24.5                   40                    24.2  \n",
       "32                 24.2                   44                    24.4  "
      ]
     },
     "execution_count": 6,
     "metadata": {},
     "output_type": "execute_result"
    }
   ],
   "source": [
    "train_data.iloc[indexes[0]:indexes[0]+2]"
   ]
  },
  {
   "cell_type": "markdown",
   "metadata": {},
   "source": [
    "Insert missing values as null"
   ]
  },
  {
   "cell_type": "code",
   "execution_count": 7,
   "metadata": {},
   "outputs": [
    {
     "data": {
      "text/plain": [
       "(9000, 8)"
      ]
     },
     "execution_count": 7,
     "metadata": {},
     "output_type": "execute_result"
    }
   ],
   "source": [
    "train_data.shape"
   ]
  },
  {
   "cell_type": "markdown",
   "metadata": {},
   "source": [
    "Add missing values for later inference"
   ]
  },
  {
   "cell_type": "code",
   "execution_count": 8,
   "metadata": {},
   "outputs": [
    {
     "data": {
      "text/plain": [
       "(483, 8)"
      ]
     },
     "execution_count": 8,
     "metadata": {},
     "output_type": "execute_result"
    }
   ],
   "source": [
    "import numpy as np\n",
    "\n",
    "# Assuming indexes and timestamps are defined somewhere in your code\n",
    "cols = train_data.columns\n",
    "new_data = []\n",
    "x = 0\n",
    "\n",
    "for index in indexes:\n",
    "    diff = timestamps[index+1] - timestamps[index]\n",
    "    n_values = diff // 30\n",
    "    \n",
    "    if n_values > 0:\n",
    "        # nan_values = np.full((n_values, len(cols)), np.nan)\n",
    "        for i in range(n_values):\n",
    "            value = [np.nan] * len(cols)\n",
    "            value[0] = timestamps[index] + (i + 1) * 30\n",
    "            new_data.append(value)\n",
    "\n",
    "np.array(new_data).shape"
   ]
  },
  {
   "cell_type": "code",
   "execution_count": 9,
   "metadata": {},
   "outputs": [
    {
     "data": {
      "text/html": [
       "<div>\n",
       "<style scoped>\n",
       "    .dataframe tbody tr th:only-of-type {\n",
       "        vertical-align: middle;\n",
       "    }\n",
       "\n",
       "    .dataframe tbody tr th {\n",
       "        vertical-align: top;\n",
       "    }\n",
       "\n",
       "    .dataframe thead th {\n",
       "        text-align: right;\n",
       "    }\n",
       "</style>\n",
       "<table border=\"1\" class=\"dataframe\">\n",
       "  <thead>\n",
       "    <tr style=\"text-align: right;\">\n",
       "      <th></th>\n",
       "      <th>timestamp</th>\n",
       "      <th>light_air</th>\n",
       "      <th>light_ground</th>\n",
       "      <th>moisture_ground</th>\n",
       "      <th>dht_air_humidity</th>\n",
       "      <th>dht_air_temperature</th>\n",
       "      <th>dht_ground_humidity</th>\n",
       "      <th>dht_ground_temperature</th>\n",
       "    </tr>\n",
       "  </thead>\n",
       "  <tbody>\n",
       "    <tr>\n",
       "      <th>0</th>\n",
       "      <td>1697063380</td>\n",
       "      <td>2311.0</td>\n",
       "      <td>1999.0</td>\n",
       "      <td>944.0</td>\n",
       "      <td>40.0</td>\n",
       "      <td>24.4</td>\n",
       "      <td>40.0</td>\n",
       "      <td>24.3</td>\n",
       "    </tr>\n",
       "    <tr>\n",
       "      <th>1</th>\n",
       "      <td>1697063416</td>\n",
       "      <td>2325.0</td>\n",
       "      <td>2006.0</td>\n",
       "      <td>929.0</td>\n",
       "      <td>40.0</td>\n",
       "      <td>24.3</td>\n",
       "      <td>40.0</td>\n",
       "      <td>24.3</td>\n",
       "    </tr>\n",
       "    <tr>\n",
       "      <th>2</th>\n",
       "      <td>1697063450</td>\n",
       "      <td>2320.0</td>\n",
       "      <td>2003.0</td>\n",
       "      <td>952.0</td>\n",
       "      <td>40.0</td>\n",
       "      <td>24.3</td>\n",
       "      <td>40.0</td>\n",
       "      <td>24.3</td>\n",
       "    </tr>\n",
       "    <tr>\n",
       "      <th>3</th>\n",
       "      <td>1697063484</td>\n",
       "      <td>2329.0</td>\n",
       "      <td>1999.0</td>\n",
       "      <td>950.0</td>\n",
       "      <td>40.0</td>\n",
       "      <td>24.3</td>\n",
       "      <td>40.0</td>\n",
       "      <td>24.2</td>\n",
       "    </tr>\n",
       "    <tr>\n",
       "      <th>4</th>\n",
       "      <td>1697063518</td>\n",
       "      <td>2307.0</td>\n",
       "      <td>1983.0</td>\n",
       "      <td>961.0</td>\n",
       "      <td>40.0</td>\n",
       "      <td>24.3</td>\n",
       "      <td>40.0</td>\n",
       "      <td>24.2</td>\n",
       "    </tr>\n",
       "    <tr>\n",
       "      <th>...</th>\n",
       "      <td>...</td>\n",
       "      <td>...</td>\n",
       "      <td>...</td>\n",
       "      <td>...</td>\n",
       "      <td>...</td>\n",
       "      <td>...</td>\n",
       "      <td>...</td>\n",
       "      <td>...</td>\n",
       "    </tr>\n",
       "    <tr>\n",
       "      <th>9478</th>\n",
       "      <td>1697375712</td>\n",
       "      <td>678.0</td>\n",
       "      <td>2465.0</td>\n",
       "      <td>1249.0</td>\n",
       "      <td>57.0</td>\n",
       "      <td>21.9</td>\n",
       "      <td>58.0</td>\n",
       "      <td>21.8</td>\n",
       "    </tr>\n",
       "    <tr>\n",
       "      <th>9479</th>\n",
       "      <td>1697375745</td>\n",
       "      <td>655.0</td>\n",
       "      <td>2419.0</td>\n",
       "      <td>1232.0</td>\n",
       "      <td>57.0</td>\n",
       "      <td>21.9</td>\n",
       "      <td>58.0</td>\n",
       "      <td>21.8</td>\n",
       "    </tr>\n",
       "    <tr>\n",
       "      <th>9480</th>\n",
       "      <td>1697375779</td>\n",
       "      <td>629.0</td>\n",
       "      <td>2410.0</td>\n",
       "      <td>206.0</td>\n",
       "      <td>57.0</td>\n",
       "      <td>21.9</td>\n",
       "      <td>58.0</td>\n",
       "      <td>21.8</td>\n",
       "    </tr>\n",
       "    <tr>\n",
       "      <th>9481</th>\n",
       "      <td>1697375815</td>\n",
       "      <td>661.0</td>\n",
       "      <td>2352.0</td>\n",
       "      <td>1351.0</td>\n",
       "      <td>57.0</td>\n",
       "      <td>21.9</td>\n",
       "      <td>58.0</td>\n",
       "      <td>21.8</td>\n",
       "    </tr>\n",
       "    <tr>\n",
       "      <th>9482</th>\n",
       "      <td>1697375848</td>\n",
       "      <td>639.0</td>\n",
       "      <td>2340.0</td>\n",
       "      <td>1232.0</td>\n",
       "      <td>57.0</td>\n",
       "      <td>21.9</td>\n",
       "      <td>58.0</td>\n",
       "      <td>21.8</td>\n",
       "    </tr>\n",
       "  </tbody>\n",
       "</table>\n",
       "<p>9483 rows × 8 columns</p>\n",
       "</div>"
      ],
      "text/plain": [
       "       timestamp  light_air  light_ground  moisture_ground  dht_air_humidity  \\\n",
       "0     1697063380     2311.0        1999.0            944.0              40.0   \n",
       "1     1697063416     2325.0        2006.0            929.0              40.0   \n",
       "2     1697063450     2320.0        2003.0            952.0              40.0   \n",
       "3     1697063484     2329.0        1999.0            950.0              40.0   \n",
       "4     1697063518     2307.0        1983.0            961.0              40.0   \n",
       "...          ...        ...           ...              ...               ...   \n",
       "9478  1697375712      678.0        2465.0           1249.0              57.0   \n",
       "9479  1697375745      655.0        2419.0           1232.0              57.0   \n",
       "9480  1697375779      629.0        2410.0            206.0              57.0   \n",
       "9481  1697375815      661.0        2352.0           1351.0              57.0   \n",
       "9482  1697375848      639.0        2340.0           1232.0              57.0   \n",
       "\n",
       "      dht_air_temperature  dht_ground_humidity  dht_ground_temperature  \n",
       "0                    24.4                 40.0                    24.3  \n",
       "1                    24.3                 40.0                    24.3  \n",
       "2                    24.3                 40.0                    24.3  \n",
       "3                    24.3                 40.0                    24.2  \n",
       "4                    24.3                 40.0                    24.2  \n",
       "...                   ...                  ...                     ...  \n",
       "9478                 21.9                 58.0                    21.8  \n",
       "9479                 21.9                 58.0                    21.8  \n",
       "9480                 21.9                 58.0                    21.8  \n",
       "9481                 21.9                 58.0                    21.8  \n",
       "9482                 21.9                 58.0                    21.8  \n",
       "\n",
       "[9483 rows x 8 columns]"
      ]
     },
     "execution_count": 9,
     "metadata": {},
     "output_type": "execute_result"
    }
   ],
   "source": [
    "new_data_df = pd.DataFrame(new_data, columns=cols)\n",
    "combined_df = pd.concat([train_data, new_data_df], ignore_index=True)\n",
    "\n",
    "combined_df.sort_values('timestamp', inplace=True)\n",
    "combined_df.reset_index(drop=True, inplace=True)\n",
    "\n",
    "combined_df"
   ]
  },
  {
   "cell_type": "markdown",
   "metadata": {},
   "source": [
    "plot data appended"
   ]
  },
  {
   "cell_type": "code",
   "execution_count": 10,
   "metadata": {},
   "outputs": [],
   "source": [
    "masked_data = np.ma.masked_invalid(combined_df.values)"
   ]
  },
  {
   "cell_type": "code",
   "execution_count": 11,
   "metadata": {},
   "outputs": [
    {
     "data": {
      "image/png": "[encoded data removed]",
      "text/plain": [
       "<Figure size 640x480 with 1 Axes>"
      ]
     },
     "metadata": {},
     "output_type": "display_data"
    }
   ],
   "source": [
    "# for col_idx, col_name in enumerate(combined_df.columns[1:]):  # excluding 'timestamp'\n",
    "#     plt.plot(combined_df['timestamp'], masked_data[:, col_idx + 1], label=col_name)\n",
    "# only one column is selected for simplicity\n",
    "col_name = 'dht_air_humidity'\n",
    "\n",
    "plt.plot(combined_df['timestamp'], masked_data[:, 3 + 1], label=col_name)\n",
    "plt.xlabel('Timestamp')\n",
    "plt.ylabel('Value')\n",
    "plt.title('Data with NaN Values Masked')\n",
    "plt.legend()\n",
    "plt.grid(True)\n",
    "plt.show()"
   ]
  },
  {
   "cell_type": "markdown",
   "metadata": {},
   "source": [
    "inference data appended from all columns"
   ]
  },
  {
   "cell_type": "code",
   "execution_count": 12,
   "metadata": {},
   "outputs": [],
   "source": [
    "for col in combined_df.columns:\n",
    "    combined_df[col] = combined_df[col].interpolate()"
   ]
  },
  {
   "cell_type": "code",
   "execution_count": 13,
   "metadata": {},
   "outputs": [
    {
     "data": {
      "image/png": "[encoded data removed]",
      "text/plain": [
       "<Figure size 640x480 with 1 Axes>"
      ]
     },
     "metadata": {},
     "output_type": "display_data"
    }
   ],
   "source": [
    "plt.plot(combined_df['timestamp'], combined_df[col_name], label=col_name)\n",
    "plt.xlabel('Timestamp')\n",
    "plt.ylabel('Value')\n",
    "plt.title('Data with implaced values')\n",
    "plt.legend()\n",
    "plt.grid(True)\n",
    "plt.show()"
   ]
  },
  {
   "cell_type": "markdown",
   "metadata": {},
   "source": [
    "extract data to CSV that is used by model"
   ]
  },
  {
   "cell_type": "code",
   "execution_count": 15,
   "metadata": {},
   "outputs": [],
   "source": [
    "combined_df.to_csv(\"./data/processed/train.csv\")"
   ]
  },
  {
   "cell_type": "code",
   "execution_count": null,
   "metadata": {},
   "outputs": [],
   "source": []
  }
 ],
 "metadata": {
  "kernelspec": {
   "display_name": ".venv",
   "language": "python",
   "name": "python3"
  },
  "language_info": {
   "codemirror_mode": {
    "name": "ipython",
    "version": 3
   },
   "file_extension": ".py",
   "mimetype": "text/x-python",
   "name": "python",
   "nbconvert_exporter": "python",
   "pygments_lexer": "ipython3",
   "version": "3.11.0"
  }
 },
 "nbformat": 4,
 "nbformat_minor": 2
}
