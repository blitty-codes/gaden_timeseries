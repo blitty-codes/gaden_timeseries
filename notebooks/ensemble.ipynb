{
  "nbformat": 4,
  "nbformat_minor": 0,
  "metadata": {
    "colab": {
      "provenance": [],
      "toc_visible": true,
      "authorship_tag": "ABX9TyNeg9ebcyZMV4GsAEJ6QD4C"
    },
    "kernelspec": {
      "name": "python3",
      "display_name": "Python 3"
    },
    "language_info": {
      "name": "python"
    }
  },
  "cells": [
    {
      "cell_type": "code",
      "source": [
        "!pip install keras==2.12.0"
      ],
      "metadata": {
        "colab": {
          "base_uri": "https://localhost:8080/"
        },
        "id": "85Wu7O3NM5fK",
        "outputId": "1634be31-6bb4-4652-b771-810cd89f2254"
      },
      "execution_count": 1,
      "outputs": [
        {
          "output_type": "stream",
          "name": "stdout",
          "text": [
            "Defaulting to user installation because normal site-packages is not writeable\n",
            "Requirement already satisfied: keras==2.12.0 in /home/dani/.local/lib/python3.10/site-packages (2.12.0)\n"
          ]
        }
      ]
    },
    {
      "cell_type": "markdown",
      "source": [
        "# Utils"
      ],
      "metadata": {
        "id": "dU10iUAPMNMz"
      }
    },
    {
      "cell_type": "code",
      "source": [
        "import pandas as pd\n",
        "import numpy as np\n",
        "\n",
        "from sklearn.model_selection import train_test_split\n",
        "from sklearn.preprocessing import StandardScaler\n",
        "from sklearn.base import BaseEstimator\n",
        "from sklearn.metrics import mean_squared_error\n",
        "from sklearn.ensemble import RandomForestRegressor, GradientBoostingRegressor\n",
        "from sklearn.svm import SVR\n",
        "\n",
        "from typing import List\n",
        "\n",
        "import numpy as np\n",
        "import pandas as pd"
      ],
      "metadata": {
        "id": "XsVguCCChV4k"
      },
      "execution_count": 14,
      "outputs": []
    },
    {
      "cell_type": "code",
      "source": [
        "class Pipeline:\n",
        "    def __init__(self, data: pd.DataFrame) -> None:\n",
        "        self.data = data\n",
        "        self.combined_df: pd.DataFrame = None\n",
        "\n",
        "    def process(self) -> pd.DataFrame:\n",
        "        timestamps = self.data[\"timestamp\"]\n",
        "        columns = [\n",
        "            \"light_air\",\n",
        "            \"moisture_ground\",\n",
        "            \"dht_air_humidity\",\n",
        "            \"dht_air_temperature\",\n",
        "            \"dht_ground_humidity\",\n",
        "            \"dht_ground_temperature\",\n",
        "        ]\n",
        "        indexes = self.__fix_missing_vaues(timestamps)\n",
        "        dataframe = self.__add_missing_values(indexes)\n",
        "        dataframe = self.__detrend(dataframe, columns, 30)\n",
        "        dataframe = self.__scale(dataframe, columns)\n",
        "\n",
        "        return dataframe\n",
        "\n",
        "    def __fix_missing_vaues(self, timestamps: np.ndarray):\n",
        "        \"\"\"\n",
        "        Return array of indexes where values are missing between that index and next.\n",
        "        \"\"\"\n",
        "        t = int(timestamps[0])\n",
        "        c = 0\n",
        "        indexes = []\n",
        "        for i, timestamp in enumerate(timestamps[1:]):\n",
        "            diff = int(timestamp) - t\n",
        "            t = int(timestamp)\n",
        "\n",
        "            # missing data from sensors\n",
        "            # at least one timestamp is missing\n",
        "            if diff >= 60:\n",
        "                indexes.append(i)\n",
        "                c += diff // 30\n",
        "\n",
        "        print(f\"[+] Total missing values: {c}\")\n",
        "\n",
        "        return indexes\n",
        "\n",
        "    def __add_missing_values(self, indexes) -> pd.DataFrame:\n",
        "        \"\"\"\n",
        "        Creates a new pandas dataframe with the new values added.\n",
        "        \"\"\"\n",
        "\n",
        "        # Assuming indexes and timestamps are defined somewhere in your code\n",
        "        cols = self.data.columns\n",
        "        timestamps = self.data[\"timestamp\"]\n",
        "        new_data = []\n",
        "\n",
        "        for index in indexes:\n",
        "            diff = timestamps[index + 1] - timestamps[index]\n",
        "            n_values = diff // 30\n",
        "\n",
        "            if n_values > 0:\n",
        "                # nan_values = np.full((n_values, len(cols)), np.nan)\n",
        "                for i in range(n_values):\n",
        "                    value = [np.nan] * len(cols)\n",
        "                    value[0] = timestamps[index] + (i + 1) * 30\n",
        "                    new_data.append(value)\n",
        "\n",
        "        new_data_df = pd.DataFrame(new_data, columns=cols)\n",
        "        combined_df = pd.concat([self.data, new_data_df], ignore_index=True)\n",
        "\n",
        "        combined_df.sort_values(\"timestamp\", inplace=True)\n",
        "        combined_df.reset_index(drop=True, inplace=True)\n",
        "\n",
        "        # resolve NaN values\n",
        "        for col in combined_df.columns:\n",
        "            combined_df[col] = combined_df[col].interpolate()\n",
        "\n",
        "        # change moisture for mean of moisture\n",
        "        # this is because there was a problem with the sensor\n",
        "        # and the data is inconsistent\n",
        "        moving_avg = combined_df[\"moisture_ground\"].rolling(window=30).mean()\n",
        "        combined_df.drop(columns=[\"moisture_ground\"])\n",
        "        combined_df[\"moisture_ground\"] = moving_avg\n",
        "\n",
        "        return combined_df\n",
        "\n",
        "    def __detrend(\n",
        "        self, data: pd.DataFrame, columns: List[str], window_size: int\n",
        "    ) -> pd.DataFrame:\n",
        "        \"\"\"\n",
        "        Detrend columns use wants.\n",
        "        \"\"\"\n",
        "        detrended_df = pd.DataFrame()\n",
        "        for col in columns:\n",
        "            moving_avg = data[col].rolling(window=window_size).mean()\n",
        "            detrended_ts = data[col] - moving_avg\n",
        "            detrended_df[col] = detrended_ts\n",
        "\n",
        "        detrended_df[\"timestamp\"] = data[\"timestamp\"]\n",
        "        # get rid of first 30 values because no trend can be calculated thus is filled with NaN values\n",
        "        detrended_df = detrended_df.dropna()\n",
        "\n",
        "        return detrended_df\n",
        "\n",
        "    def __scale(self, data: pd.DataFrame, columns: List[str]) -> pd.DataFrame:\n",
        "        \"\"\"\n",
        "        scale (0, 1)\n",
        "        \"\"\"\n",
        "        scaled_df = pd.DataFrame()\n",
        "        for col in columns:\n",
        "            # scaling values\n",
        "            min_val = data[f\"{col}\"].min()\n",
        "            max_val = data[f\"{col}\"].max()\n",
        "            scaled_series = (data[f\"{col}\"] - min_val) / (max_val - min_val)\n",
        "            scaled_df[col] = scaled_series\n",
        "\n",
        "        scaled_df[\"timestamp\"] = data[\"timestamp\"]\n",
        "\n",
        "        return scaled_df"
      ],
      "metadata": {
        "id": "ZY7ia9GpMSDo"
      },
      "execution_count": 3,
      "outputs": []
    },
    {
      "cell_type": "code",
      "source": [
        "class Ensemble(BaseEstimator):\n",
        "    def __init__(self, models):\n",
        "        self.models = models\n",
        "\n",
        "    def fit(self, X, y):\n",
        "        for model in self.models:\n",
        "            model.fit(X, y)\n",
        "\n",
        "    def predict(self, X):\n",
        "        predictions = np.array([model.predict(X) for model in self.models])\n",
        "        return np.mean(predictions, axis=0)\n",
        "\n",
        "    def evaluate(self, X, y, metric=mean_squared_error):\n",
        "        preds = self.predict(X)\n",
        "        return metric(y, preds)\n"
      ],
      "metadata": {
        "id": "GxYs8Hr_Z3t6"
      },
      "execution_count": 4,
      "outputs": []
    },
    {
      "cell_type": "markdown",
      "source": [
        "# Setup"
      ],
      "metadata": {
        "id": "dxWkthOEMOj3"
      }
    },
    {
      "cell_type": "code",
      "source": [
        "test_url = \"https://gist.githubusercontent.com/w-dan/5dd47369b014640689e0eeb203e718b8/raw/d973b2a9f2f4f708c6fe644e22d72d36cfd05940/split_test.csv\"\n",
        "train_url = \"https://gist.githubusercontent.com/w-dan/5dd47369b014640689e0eeb203e718b8/raw/d973b2a9f2f4f708c6fe644e22d72d36cfd05940/split_train.csv\"\n",
        "\n",
        "train_df = pd.read_csv(train_url)\n",
        "test_df = pd.read_csv(test_url)"
      ],
      "metadata": {
        "id": "HzcLvx4YLsn5"
      },
      "execution_count": 5,
      "outputs": []
    },
    {
      "cell_type": "code",
      "source": [
        "train_df.shape"
      ],
      "metadata": {
        "colab": {
          "base_uri": "https://localhost:8080/"
        },
        "id": "leDKEvSDg6da",
        "outputId": "7ed82483-53ed-4191-aa34-4487c9fe7e63"
      },
      "execution_count": 6,
      "outputs": [
        {
          "output_type": "execute_result",
          "data": {
            "text/plain": [
              "(9000, 8)"
            ]
          },
          "metadata": {},
          "execution_count": 6
        }
      ]
    },
    {
      "cell_type": "code",
      "source": [
        "pipe_train_df = Pipeline(train_df)\n",
        "pipe_test_df = Pipeline(test_df)"
      ],
      "metadata": {
        "id": "tVZi3sYzMqSq"
      },
      "execution_count": 7,
      "outputs": []
    },
    {
      "cell_type": "code",
      "source": [
        "train_df = pipe_train_df.process()\n",
        "test_df = pipe_test_df.process()\n",
        "\n",
        "y_train = train_df['moisture_ground']\n",
        "X_train = train_df.drop('moisture_ground', axis=1)\n",
        "y_test = test_df['moisture_ground']\n",
        "X_test = test_df.drop('moisture_ground', axis=1)"
      ],
      "metadata": {
        "colab": {
          "base_uri": "https://localhost:8080/"
        },
        "id": "3VW8p33gLrP0",
        "outputId": "d18df480-6a93-46f9-e0db-e2ce88f04a1f"
      },
      "execution_count": 8,
      "outputs": [
        {
          "output_type": "stream",
          "name": "stdout",
          "text": [
            "[+] Total missing values: 483\n",
            "[+] Total missing values: 169\n"
          ]
        }
      ]
    },
    {
      "cell_type": "code",
      "source": [
        "train_df.shape"
      ],
      "metadata": {
        "colab": {
          "base_uri": "https://localhost:8080/"
        },
        "id": "tHKR40-FhB6R",
        "outputId": "3e7c7af5-f257-45a3-c8bc-83fe17b217a0"
      },
      "execution_count": 9,
      "outputs": [
        {
          "output_type": "execute_result",
          "data": {
            "text/plain": [
              "(9425, 7)"
            ]
          },
          "metadata": {},
          "execution_count": 9
        }
      ]
    },
    {
      "cell_type": "markdown",
      "source": [
        "# Ensemble class"
      ],
      "metadata": {
        "id": "XCoB7j3FZMbr"
      }
    },
    {
      "cell_type": "code",
      "source": [
        "models = [\n",
        "    RandomForestRegressor(n_estimators=100, random_state=42),\n",
        "    GradientBoostingRegressor(n_estimators=100, random_state=42),\n",
        "    SVR(kernel='rbf')\n",
        "]\n",
        "\n",
        "# create and evaluate\n",
        "ensemble_model = Ensemble(models)\n",
        "ensemble_model.fit(X_train, y_train)"
      ],
      "metadata": {
        "id": "MIbr3vn-ZRYn"
      },
      "execution_count": 15,
      "outputs": []
    },
    {
      "cell_type": "code",
      "source": [
        "# evaluating\n",
        "mse = ensemble_model.evaluate(X_test, y_test)\n",
        "print(f'Ensemble Model MSE: {mse}')"
      ],
      "metadata": {
        "colab": {
          "base_uri": "https://localhost:8080/"
        },
        "id": "-wdPPWR0ZZGT",
        "outputId": "8ff08a73-0133-4a54-9d73-ba1facfc3c31"
      },
      "execution_count": 16,
      "outputs": [
        {
          "output_type": "stream",
          "name": "stdout",
          "text": [
            "Ensemble Model MSE: 0.02334128185154848\n"
          ]
        }
      ]
    },
    {
      "cell_type": "code",
      "source": [
        "import numpy as np\n",
        "import matplotlib.pyplot as plt\n",
        "\n",
        "ensemble_preds = ensemble_model.predict(X_test)\n",
        "\n",
        "# plot\n",
        "plt.figure(figsize=(14, 7))\n",
        "plt.plot(y_test.values, label='Actual', color='blue')\n",
        "plt.plot(ensemble_preds, label='Ensemble Prediction', color='red', linestyle='--')\n",
        "plt.legend()\n",
        "plt.title('Ground truth vs Ensemble Prediction')\n",
        "plt.xlabel('Time')\n",
        "plt.ylabel(\"Ground Moisture\")\n",
        "plt.show()\n"
      ],
      "metadata": {
        "colab": {
          "base_uri": "https://localhost:8080/",
          "height": 458
        },
        "id": "tE18JFHwZUXz",
        "outputId": "439d9110-71a9-45d5-fd0e-1d8d0d2b81b9"
      },
      "execution_count": 17,
      "outputs": [
        {
          "output_type": "display_data",
          "data": {
            "text/plain": [
              "<Figure size 1008x504 with 1 Axes>"
            ],
            "image/png": "[encoded data removed]"
          },
          "metadata": {
            "needs_background": "light"
          }
        }
      ]
    }
  ]
}